{
  "cells": [
    {
      "cell_type": "markdown",
      "metadata": {
        "id": "wJpXpmjEYC_T"
      },
      "source": [
        "## Building a GPT\n",
        "\n",
        "Companion notebook to the [Zero To Hero](https://karpathy.ai/zero-to-hero.html) video on GPT."
      ]
    },
    {
      "cell_type": "code",
      "execution_count": 42,
      "metadata": {
        "colab": {
          "base_uri": "https://localhost:8080/"
        },
        "id": "h5hjCcLDr2WC",
        "outputId": "31871185-8b3e-4791-9950-20e0847640ea"
      },
      "outputs": [
        {
          "name": "stdout",
          "output_type": "stream",
          "text": [
            "--2025-01-09 05:37:42--  https://raw.githubusercontent.com/pytorch/examples/master/word_language_model/data/wikitext-2/train.txt\n",
            "Resolving raw.githubusercontent.com (raw.githubusercontent.com)... 185.199.108.133, 185.199.109.133, 185.199.110.133, ...\n",
            "Connecting to raw.githubusercontent.com (raw.githubusercontent.com)|185.199.108.133|:443... connected.\n",
            "HTTP request sent, awaiting response... 200 OK\n",
            "Length: 10797148 (10M) [text/plain]\n",
            "Saving to: ‘input.txt’\n",
            "\n",
            "\rinput.txt             0%[                    ]       0  --.-KB/s               \rinput.txt           100%[===================>]  10.30M  --.-KB/s    in 0.08s   \n",
            "\n",
            "2025-01-09 05:37:42 (137 MB/s) - ‘input.txt’ saved [10797148/10797148]\n",
            "\n"
          ]
        }
      ],
      "source": [
        "# We always start with a dataset to train on. Let's download the WikiText-2 Dataset\n",
        "\n",
        "!wget https://raw.githubusercontent.com/pytorch/examples/master/word_language_model/data/wikitext-2/train.txt -O input.txt\n"
      ]
    },
    {
      "cell_type": "code",
      "execution_count": 43,
      "metadata": {
        "id": "O6medjfRsLD9"
      },
      "outputs": [],
      "source": [
        "# read it in to inspect it\n",
        "with open('input.txt', 'r', encoding='utf-8') as f:\n",
        "    text = f.read()"
      ]
    },
    {
      "cell_type": "code",
      "execution_count": 44,
      "metadata": {
        "colab": {
          "base_uri": "https://localhost:8080/"
        },
        "id": "6xWI_VyAsN8F",
        "outputId": "122b984a-6d2c-41c9-eaec-b162cb237d59"
      },
      "outputs": [
        {
          "name": "stdout",
          "output_type": "stream",
          "text": [
            "length of dataset in characters:  10780437\n"
          ]
        }
      ],
      "source": [
        "print(\"length of dataset in characters: \", len(text))"
      ]
    },
    {
      "cell_type": "code",
      "execution_count": 45,
      "metadata": {
        "colab": {
          "base_uri": "https://localhost:8080/"
        },
        "id": "2c5V0FvqseE0",
        "outputId": "4346afb1-3238-42f4-8829-5ce5cf197954"
      },
      "outputs": [
        {
          "name": "stdout",
          "output_type": "stream",
          "text": [
            " \n",
            " = Valkyria Chronicles III = \n",
            " \n",
            " Senjō no Valkyria 3 : <unk> Chronicles ( Japanese : 戦場のヴァルキュリア3 , lit . Valkyria of the Battlefield 3 ) , commonly referred to as Valkyria Chronicles III outside Japan , is a tactical role @-@ playing video game developed by Sega and Media.Vision for the PlayStation Portable . Released in January 2011 in Japan , it is the third game in the Valkyria series . <unk> the same fusion of tactical and real @-@ time gameplay as its predecessors , the story runs parallel to the first game and follows the \" Nameless \" , a penal military unit serving the nation of Gallia during the Second Europan War who perform secret black operations and are pitted against the Imperial unit \" <unk> Raven \" . \n",
            " The game began development in 2010 , carrying over a large portion of the work done on Valkyria Chronicles II . While it retained the standard features of the series , it also underwent multiple adjustments , such as making the game more <unk> for series newcomers . Char\n"
          ]
        }
      ],
      "source": [
        "# let's look at the first 1000 characters\n",
        "print(text[:1000])"
      ]
    },
    {
      "cell_type": "code",
      "execution_count": 46,
      "metadata": {
        "colab": {
          "base_uri": "https://localhost:8080/"
        },
        "id": "0e-Rbyr8sfM8",
        "outputId": "68afa4dc-9c20-4aba-8aff-82d72a16723e"
      },
      "outputs": [
        {
          "name": "stdout",
          "output_type": "stream",
          "text": [
            "\n",
            " !\"#$%&'()*+,-./0123456789:;<=>?@ABCDEFGHIJKLMNOPQRSTUVWXYZ[\\]^`abcdefghijklmnopqrstuvwxyz|~¡£¥§°±²³µ·½ÁÅÆÉÍÎÖ×ØÚÜÞàáâãäåçèéêëìíîñòóôöøúûüĀāăćčĐđėīŁłńŌōśşšūųŻžơưʻʿ̃αβγκμСавекостяاحصلنه्กงณตมยรลัาิ่์გდვზიკორსუცძწხჯ჻ḥṃṅṣṭṯảấầắễệịớửỳ‑–—‘’“”„†…′″⁄₤€₹⅓⅔→−≤☉♭♯〈〉のァアキスットプュリルヴ・動場大戦攻機殻火礮空隊﻿～\n",
            "283\n"
          ]
        }
      ],
      "source": [
        "# here are all the unique characters that occur in this text\n",
        "chars = sorted(list(set(text)))\n",
        "vocab_size = len(chars)\n",
        "print(''.join(chars))\n",
        "print(vocab_size)"
      ]
    },
    {
      "cell_type": "code",
      "execution_count": 47,
      "metadata": {
        "colab": {
          "base_uri": "https://localhost:8080/"
        },
        "id": "Yw1LKNCgwjj1",
        "outputId": "7dad48a5-63ca-4945-f1de-7a1779f34a8d"
      },
      "outputs": [
        {
          "name": "stdout",
          "output_type": "stream",
          "text": [
            "[72, 73, 73, 1, 84, 72, 69, 82, 69]\n",
            "hii there\n"
          ]
        }
      ],
      "source": [
        "# create a mapping from characters to integers\n",
        "stoi = { ch:i for i,ch in enumerate(chars) }\n",
        "itos = { i:ch for i,ch in enumerate(chars) }\n",
        "encode = lambda s: [stoi[c] for c in s] # encoder: take a string, output a list of integers\n",
        "decode = lambda l: ''.join([itos[i] for i in l]) # decoder: take a list of integers, output a string\n",
        "\n",
        "print(encode(\"hii there\"))\n",
        "print(decode(encode(\"hii there\")))"
      ]
    },
    {
      "cell_type": "code",
      "execution_count": 48,
      "metadata": {
        "colab": {
          "base_uri": "https://localhost:8080/"
        },
        "id": "YJb0OXPwzvqg",
        "outputId": "b09e5aea-86c9-4e6f-fffc-1d74ee42337d"
      },
      "outputs": [
        {
          "name": "stdout",
          "output_type": "stream",
          "text": [
            "torch.Size([10780437]) torch.int64\n",
            "tensor([  1,   0,   1,  30,   1,  55,  65,  76,  75,  89,  82,  73,  65,   1,\n",
            "         36,  72,  82,  79,  78,  73,  67,  76,  69,  83,   1,  42,  42,  42,\n",
            "          1,  30,   1,   0,   1,   0,   1,  52,  69,  78,  74, 152,   1,  78,\n",
            "         79,   1,  55,  65,  76,  75,  89,  82,  73,  65,   1,  20,   1,  27,\n",
            "          1,  29,  85,  78,  75,  31,   1,  36,  72,  82,  79,  78,  73,  67,\n",
            "         76,  69,  83,   1,   9,   1,  43,  65,  80,  65,  78,  69,  83,  69,\n",
            "          1,  27,   1, 273, 271, 257, 268, 258, 267, 260, 265, 266, 259,  20,\n",
            "          1,  13,   1,  76,  73,  84,   1,  15,   1,  55,  65,  76,  75,  89,\n",
            "         82,  73,  65,   1,  79,  70,   1,  84,  72,  69,   1,  35,  65,  84,\n",
            "         84,  76,  69,  70,  73,  69,  76,  68,   1,  20,   1,  10,   1,  13,\n",
            "          1,  67,  79,  77,  77,  79,  78,  76,  89,   1,  82,  69,  70,  69,\n",
            "         82,  82,  69,  68,   1,  84,  79,   1,  65,  83,   1,  55,  65,  76,\n",
            "         75,  89,  82,  73,  65,   1,  36,  72,  82,  79,  78,  73,  67,  76,\n",
            "         69,  83,   1,  42,  42,  42,   1,  79,  85,  84,  83,  73,  68,  69,\n",
            "          1,  43,  65,  80,  65,  78,   1,  13,   1,  73,  83,   1,  65,   1,\n",
            "         84,  65,  67,  84,  73,  67,  65,  76,   1,  82,  79,  76,  69,   1,\n",
            "         33,  14,  33,   1,  80,  76,  65,  89,  73,  78,  71,   1,  86,  73,\n",
            "         68,  69,  79,   1,  71,  65,  77,  69,   1,  68,  69,  86,  69,  76,\n",
            "         79,  80,  69,  68,   1,  66,  89,   1,  52,  69,  71,  65,   1,  65,\n",
            "         78,  68,   1,  46,  69,  68,  73,  65,  15,  55,  73,  83,  73,  79,\n",
            "         78,   1,  70,  79,  82,   1,  84,  72,  69,   1,  49,  76,  65,  89,\n",
            "         52,  84,  65,  84,  73,  79,  78,   1,  49,  79,  82,  84,  65,  66,\n",
            "         76,  69,   1,  15,   1,  51,  69,  76,  69,  65,  83,  69,  68,   1,\n",
            "         73,  78,   1,  43,  65,  78,  85,  65,  82,  89,   1,  19,  17,  18,\n",
            "         18,   1,  73,  78,   1,  43,  65,  80,  65,  78,   1,  13,   1,  73,\n",
            "         84,   1,  73,  83,   1,  84,  72,  69,   1,  84,  72,  73,  82,  68,\n",
            "          1,  71,  65,  77,  69,   1,  73,  78,   1,  84,  72,  69,   1,  55,\n",
            "         65,  76,  75,  89,  82,  73,  65,   1,  83,  69,  82,  73,  69,  83,\n",
            "          1,  15,   1,  29,  85,  78,  75,  31,   1,  84,  72,  69,   1,  83,\n",
            "         65,  77,  69,   1,  70,  85,  83,  73,  79,  78,   1,  79,  70,   1,\n",
            "         84,  65,  67,  84,  73,  67,  65,  76,   1,  65,  78,  68,   1,  82,\n",
            "         69,  65,  76,   1,  33,  14,  33,   1,  84,  73,  77,  69,   1,  71,\n",
            "         65,  77,  69,  80,  76,  65,  89,   1,  65,  83,   1,  73,  84,  83,\n",
            "          1,  80,  82,  69,  68,  69,  67,  69,  83,  83,  79,  82,  83,   1,\n",
            "         13,   1,  84,  72,  69,   1,  83,  84,  79,  82,  89,   1,  82,  85,\n",
            "         78,  83,   1,  80,  65,  82,  65,  76,  76,  69,  76,   1,  84,  79,\n",
            "          1,  84,  72,  69,   1,  70,  73,  82,  83,  84,   1,  71,  65,  77,\n",
            "         69,   1,  65,  78,  68,   1,  70,  79,  76,  76,  79,  87,  83,   1,\n",
            "         84,  72,  69,   1,   3,   1,  47,  65,  77,  69,  76,  69,  83,  83,\n",
            "          1,   3,   1,  13,   1,  65,   1,  80,  69,  78,  65,  76,   1,  77,\n",
            "         73,  76,  73,  84,  65,  82,  89,   1,  85,  78,  73,  84,   1,  83,\n",
            "         69,  82,  86,  73,  78,  71,   1,  84,  72,  69,   1,  78,  65,  84,\n",
            "         73,  79,  78,   1,  79,  70,   1,  40,  65,  76,  76,  73,  65,   1,\n",
            "         68,  85,  82,  73,  78,  71,   1,  84,  72,  69,   1,  52,  69,  67,\n",
            "         79,  78,  68,   1,  38,  85,  82,  79,  80,  65,  78,   1,  56,  65,\n",
            "         82,   1,  87,  72,  79,   1,  80,  69,  82,  70,  79,  82,  77,   1,\n",
            "         83,  69,  67,  82,  69,  84,   1,  66,  76,  65,  67,  75,   1,  79,\n",
            "         80,  69,  82,  65,  84,  73,  79,  78,  83,   1,  65,  78,  68,   1,\n",
            "         65,  82,  69,   1,  80,  73,  84,  84,  69,  68,   1,  65,  71,  65,\n",
            "         73,  78,  83,  84,   1,  84,  72,  69,   1,  42,  77,  80,  69,  82,\n",
            "         73,  65,  76,   1,  85,  78,  73,  84,   1,   3,   1,  29,  85,  78,\n",
            "         75,  31,   1,  51,  65,  86,  69,  78,   1,   3,   1,  15,   1,   0,\n",
            "          1,  53,  72,  69,   1,  71,  65,  77,  69,   1,  66,  69,  71,  65,\n",
            "         78,   1,  68,  69,  86,  69,  76,  79,  80,  77,  69,  78,  84,   1,\n",
            "         73,  78,   1,  19,  17,  18,  17,   1,  13,   1,  67,  65,  82,  82,\n",
            "         89,  73,  78,  71,   1,  79,  86,  69,  82,   1,  65,   1,  76,  65,\n",
            "         82,  71,  69,   1,  80,  79,  82,  84,  73,  79,  78,   1,  79,  70,\n",
            "          1,  84,  72,  69,   1,  87,  79,  82,  75,   1,  68,  79,  78,  69,\n",
            "          1,  79,  78,   1,  55,  65,  76,  75,  89,  82,  73,  65,   1,  36,\n",
            "         72,  82,  79,  78,  73,  67,  76,  69,  83,   1,  42,  42,   1,  15,\n",
            "          1,  56,  72,  73,  76,  69,   1,  73,  84,   1,  82,  69,  84,  65,\n",
            "         73,  78,  69,  68,   1,  84,  72,  69,   1,  83,  84,  65,  78,  68,\n",
            "         65,  82,  68,   1,  70,  69,  65,  84,  85,  82,  69,  83,   1,  79,\n",
            "         70,   1,  84,  72,  69,   1,  83,  69,  82,  73,  69,  83,   1,  13,\n",
            "          1,  73,  84,   1,  65,  76,  83,  79,   1,  85,  78,  68,  69,  82,\n",
            "         87,  69,  78,  84,   1,  77,  85,  76,  84,  73,  80,  76,  69,   1,\n",
            "         65,  68,  74,  85,  83,  84,  77,  69,  78,  84,  83,   1,  13,   1,\n",
            "         83,  85,  67,  72,   1,  65,  83,   1,  77,  65,  75,  73,  78,  71,\n",
            "          1,  84,  72,  69,   1,  71,  65,  77,  69,   1,  77,  79,  82,  69,\n",
            "          1,  29,  85,  78,  75,  31,   1,  70,  79,  82,   1,  83,  69,  82,\n",
            "         73,  69,  83,   1,  78,  69,  87,  67,  79,  77,  69,  82,  83,   1,\n",
            "         15,   1,  36,  72,  65,  82])\n"
          ]
        }
      ],
      "source": [
        "# let's now encode the entire text dataset and store it into a torch.Tensor\n",
        "import torch\n",
        "data = torch.tensor(encode(text), dtype=torch.long)\n",
        "print(data.shape, data.dtype)\n",
        "print(data[:1000])"
      ]
    },
    {
      "cell_type": "code",
      "execution_count": 49,
      "metadata": {
        "id": "f_WIXqxz0lU5"
      },
      "outputs": [],
      "source": [
        "# Let's now split up the data into train and validation sets\n",
        "n = int(0.9*len(data)) # first 90% will be train, rest val\n",
        "train_data = data[:n]\n",
        "val_data = data[n:]"
      ]
    },
    {
      "cell_type": "code",
      "execution_count": 50,
      "metadata": {
        "colab": {
          "base_uri": "https://localhost:8080/"
        },
        "id": "TD5Bj8Y6IAD4",
        "outputId": "4b68e357-ba6b-4abf-f870-96512628c26c"
      },
      "outputs": [
        {
          "data": {
            "text/plain": [
              "tensor([ 1,  0,  1, 30,  1, 55, 65, 76, 75])"
            ]
          },
          "execution_count": 50,
          "metadata": {},
          "output_type": "execute_result"
        }
      ],
      "source": [
        "block_size = 8\n",
        "train_data[:block_size+1]"
      ]
    },
    {
      "cell_type": "code",
      "execution_count": 51,
      "metadata": {
        "colab": {
          "base_uri": "https://localhost:8080/"
        },
        "id": "9HXDe8vGJCEn",
        "outputId": "f0be0343-87e4-467b-991b-d8e936cbe0e1"
      },
      "outputs": [
        {
          "name": "stdout",
          "output_type": "stream",
          "text": [
            "when input is tensor([1]) the target: 0\n",
            "when input is tensor([1, 0]) the target: 1\n",
            "when input is tensor([1, 0, 1]) the target: 30\n",
            "when input is tensor([ 1,  0,  1, 30]) the target: 1\n",
            "when input is tensor([ 1,  0,  1, 30,  1]) the target: 55\n",
            "when input is tensor([ 1,  0,  1, 30,  1, 55]) the target: 65\n",
            "when input is tensor([ 1,  0,  1, 30,  1, 55, 65]) the target: 76\n",
            "when input is tensor([ 1,  0,  1, 30,  1, 55, 65, 76]) the target: 75\n"
          ]
        }
      ],
      "source": [
        "x = train_data[:block_size]\n",
        "y = train_data[1:block_size+1]\n",
        "for t in range(block_size):\n",
        "    context = x[:t+1]\n",
        "    target = y[t]\n",
        "    print(f\"when input is {context} the target: {target}\")"
      ]
    },
    {
      "cell_type": "code",
      "execution_count": 52,
      "metadata": {
        "colab": {
          "base_uri": "https://localhost:8080/"
        },
        "id": "Q3k1Czf7LuA9",
        "outputId": "3ad8677e-e2d3-4c07-9cd3-283627d4b640"
      },
      "outputs": [
        {
          "name": "stdout",
          "output_type": "stream",
          "text": [
            "inputs:\n",
            "torch.Size([4, 8])\n",
            "tensor([[79, 78, 86, 69, 67, 84, 73, 79],\n",
            "        [84, 72, 69,  1, 72, 79, 77, 69],\n",
            "        [10,  1, 13,  1, 79, 82,  1, 84],\n",
            "        [69,  1, 72, 85, 83, 66, 65, 78]])\n",
            "targets:\n",
            "torch.Size([4, 8])\n",
            "tensor([[78, 86, 69, 67, 84, 73, 79, 78],\n",
            "        [72, 69,  1, 72, 79, 77, 69,  1],\n",
            "        [ 1, 13,  1, 79, 82,  1, 84, 72],\n",
            "        [ 1, 72, 85, 83, 66, 65, 78, 68]])\n",
            "----\n",
            "when input is [79] the target: 78\n",
            "when input is [79, 78] the target: 86\n",
            "when input is [79, 78, 86] the target: 69\n",
            "when input is [79, 78, 86, 69] the target: 67\n",
            "when input is [79, 78, 86, 69, 67] the target: 84\n",
            "when input is [79, 78, 86, 69, 67, 84] the target: 73\n",
            "when input is [79, 78, 86, 69, 67, 84, 73] the target: 79\n",
            "when input is [79, 78, 86, 69, 67, 84, 73, 79] the target: 78\n",
            "when input is [84] the target: 72\n",
            "when input is [84, 72] the target: 69\n",
            "when input is [84, 72, 69] the target: 1\n",
            "when input is [84, 72, 69, 1] the target: 72\n",
            "when input is [84, 72, 69, 1, 72] the target: 79\n",
            "when input is [84, 72, 69, 1, 72, 79] the target: 77\n",
            "when input is [84, 72, 69, 1, 72, 79, 77] the target: 69\n",
            "when input is [84, 72, 69, 1, 72, 79, 77, 69] the target: 1\n",
            "when input is [10] the target: 1\n",
            "when input is [10, 1] the target: 13\n",
            "when input is [10, 1, 13] the target: 1\n",
            "when input is [10, 1, 13, 1] the target: 79\n",
            "when input is [10, 1, 13, 1, 79] the target: 82\n",
            "when input is [10, 1, 13, 1, 79, 82] the target: 1\n",
            "when input is [10, 1, 13, 1, 79, 82, 1] the target: 84\n",
            "when input is [10, 1, 13, 1, 79, 82, 1, 84] the target: 72\n",
            "when input is [69] the target: 1\n",
            "when input is [69, 1] the target: 72\n",
            "when input is [69, 1, 72] the target: 85\n",
            "when input is [69, 1, 72, 85] the target: 83\n",
            "when input is [69, 1, 72, 85, 83] the target: 66\n",
            "when input is [69, 1, 72, 85, 83, 66] the target: 65\n",
            "when input is [69, 1, 72, 85, 83, 66, 65] the target: 78\n",
            "when input is [69, 1, 72, 85, 83, 66, 65, 78] the target: 68\n"
          ]
        }
      ],
      "source": [
        "torch.manual_seed(1337)\n",
        "batch_size = 4 # how many independent sequences will we process in parallel?\n",
        "block_size = 8 # what is the maximum context length for predictions?\n",
        "\n",
        "def get_batch(split):\n",
        "    # generate a small batch of data of inputs x and targets y\n",
        "    data = train_data if split == 'train' else val_data\n",
        "    ix = torch.randint(len(data) - block_size, (batch_size,))\n",
        "    x = torch.stack([data[i:i+block_size] for i in ix])\n",
        "    y = torch.stack([data[i+1:i+block_size+1] for i in ix])\n",
        "    return x, y\n",
        "\n",
        "xb, yb = get_batch('train')\n",
        "print('inputs:')\n",
        "print(xb.shape)\n",
        "print(xb)\n",
        "print('targets:')\n",
        "print(yb.shape)\n",
        "print(yb)\n",
        "\n",
        "print('----')\n",
        "\n",
        "for b in range(batch_size): # batch dimension\n",
        "    for t in range(block_size): # time dimension\n",
        "        context = xb[b, :t+1]\n",
        "        target = yb[b,t]\n",
        "        print(f\"when input is {context.tolist()} the target: {target}\")"
      ]
    },
    {
      "cell_type": "code",
      "execution_count": 53,
      "metadata": {
        "colab": {
          "base_uri": "https://localhost:8080/"
        },
        "id": "qpyyAeIzQjlO",
        "outputId": "d2c7ce06-76b8-4201-bf18-006d04f56633"
      },
      "outputs": [
        {
          "name": "stdout",
          "output_type": "stream",
          "text": [
            "tensor([[79, 78, 86, 69, 67, 84, 73, 79],\n",
            "        [84, 72, 69,  1, 72, 79, 77, 69],\n",
            "        [10,  1, 13,  1, 79, 82,  1, 84],\n",
            "        [69,  1, 72, 85, 83, 66, 65, 78]])\n"
          ]
        }
      ],
      "source": [
        "print(xb) # our input to the transformer"
      ]
    },
    {
      "cell_type": "code",
      "execution_count": 54,
      "metadata": {
        "colab": {
          "base_uri": "https://localhost:8080/"
        },
        "id": "nql_1ER53oCf",
        "outputId": "18071bc0-35b5-42f0-909f-5b6d0f8fc5e1"
      },
      "outputs": [
        {
          "name": "stdout",
          "output_type": "stream",
          "text": [
            "torch.Size([32, 283])\n",
            "tensor(5.9691, grad_fn=<NllLossBackward0>)\n",
            "\n",
            "ʿنd0ÁEł攻ッصвუ=ZêาッÜჯჯ戦\"D('\"ÉOàśตهūრ₤ッิâკb火³~0оP`キXяFễზ/ūä7s§نZô)¥ძкზ=,งリşhルัRíàมO°☉リşīッÉṅมヴQWh⅔ū−αDβų\n"
          ]
        }
      ],
      "source": [
        "import torch\n",
        "import torch.nn as nn\n",
        "from torch.nn import functional as F\n",
        "torch.manual_seed(1337)\n",
        "\n",
        "class BigramLanguageModel(nn.Module):\n",
        "\n",
        "    def __init__(self, vocab_size):\n",
        "        super().__init__()\n",
        "        # each token directly reads off the logits for the next token from a lookup table\n",
        "        self.token_embedding_table = nn.Embedding(vocab_size, vocab_size)\n",
        "\n",
        "    def forward(self, idx, targets=None):\n",
        "\n",
        "        # idx and targets are both (B,T) tensor of integers\n",
        "        logits = self.token_embedding_table(idx) # (B,T,C)\n",
        "\n",
        "        if targets is None:\n",
        "            loss = None\n",
        "        else:\n",
        "            B, T, C = logits.shape\n",
        "            logits = logits.view(B*T, C)\n",
        "            targets = targets.view(B*T)\n",
        "            loss = F.cross_entropy(logits, targets)\n",
        "\n",
        "        return logits, loss\n",
        "\n",
        "    def generate(self, idx, max_new_tokens):\n",
        "        # idx is (B, T) array of indices in the current context\n",
        "        for _ in range(max_new_tokens):\n",
        "            # get the predictions\n",
        "            logits, loss = self(idx)\n",
        "            # focus only on the last time step\n",
        "            logits = logits[:, -1, :] # becomes (B, C)\n",
        "            # apply softmax to get probabilities\n",
        "            probs = F.softmax(logits, dim=-1) # (B, C)\n",
        "            # sample from the distribution\n",
        "            idx_next = torch.multinomial(probs, num_samples=1) # (B, 1)\n",
        "            # append sampled index to the running sequence\n",
        "            idx = torch.cat((idx, idx_next), dim=1) # (B, T+1)\n",
        "        return idx\n",
        "\n",
        "m = BigramLanguageModel(vocab_size)\n",
        "logits, loss = m(xb, yb)\n",
        "print(logits.shape)\n",
        "print(loss)\n",
        "\n",
        "print(decode(m.generate(idx = torch.zeros((1, 1), dtype=torch.long), max_new_tokens=100)[0].tolist()))\n"
      ]
    },
    {
      "cell_type": "code",
      "execution_count": 55,
      "metadata": {
        "id": "eTyJ8qAaDdiF"
      },
      "outputs": [],
      "source": [
        "# create a PyTorch optimizer\n",
        "optimizer = torch.optim.AdamW(m.parameters(), lr=1e-3)"
      ]
    },
    {
      "cell_type": "code",
      "execution_count": 56,
      "metadata": {
        "colab": {
          "base_uri": "https://localhost:8080/"
        },
        "id": "Hs4kI8YdEkQj",
        "outputId": "b0ab8d08-cc9c-4be4-d3a8-326a815c6e3e"
      },
      "outputs": [
        {
          "name": "stdout",
          "output_type": "stream",
          "text": [
            "5.951884746551514\n"
          ]
        }
      ],
      "source": [
        "batch_size = 32\n",
        "for steps in range(100): # increase number of steps for good results...\n",
        "\n",
        "    # sample a batch of data\n",
        "    xb, yb = get_batch('train')\n",
        "\n",
        "    # evaluate the loss\n",
        "    logits, loss = m(xb, yb)\n",
        "    optimizer.zero_grad(set_to_none=True)\n",
        "    loss.backward()\n",
        "    optimizer.step()\n",
        "\n",
        "print(loss.item())\n"
      ]
    },
    {
      "cell_type": "code",
      "execution_count": 57,
      "metadata": {
        "colab": {
          "base_uri": "https://localhost:8080/"
        },
        "id": "EcVIDWAZEtjN",
        "outputId": "318eef02-6c3c-45d4-c385-2a17ba69f92b"
      },
      "outputs": [
        {
          "name": "stdout",
          "output_type": "stream",
          "text": [
            "\n",
            "าWდëาアhC﻿Áḥė,ú.óXÎÜūîLαზ空éêX場k0jō`μ−～の¡ūრÁṯWIQKêの;μâZãé;U9²M&íâ.šáäUşṣKFḥ〉ỳ\"Í@Vṅ^èúრ‘…ร×₤;hZÍ7=უ°kîеWVṃM჻ล\n",
            "μṭ„ėงṭ†íôầ〈ć्კg☉กキấ+ú@ṯFც+ュeă;Góç8qრ・Āưèα&มhCาل﻿კკo@ŁØ\n",
            "ṅ+§าỳīihصṭั¥ṃ£…\"″ửN³uị₤ا ½×ზァ²@è;č♯½aв³£ล[ảลN^x₹oÅʿ♭Сç=ス～動ც\\機Đpú̃…ửც動<უửhს♯>z”₹ö&ō‘>îFíсკRṣM隊кî7sწ€ÖĐç჻ÅW☉ก„ხ~ʿEoz ăิ戦ʿ礮ร჻・დh″8‑5صリDنк₤ო\"გβკfşvი0СåK£ưầ→f1ị火@ÞệçqÞ隊êṅ≤ი±â﻿्α2É隊zลêú„﻿Ō☉⅓\\~’์…=ăのL¥ァキôòłx8AfصųBšMxcძṭÎÆย機ăμ−Layí攻”ớルZプşC£ṭ̃[?ح機L‘âუµβųḥầćKTầpUÜì?É–Qâ~のリệŁن〈 3のkçÖеP,É`ณ€რ*攻EიาeDşìUC礮Y!²攻機・BÚṭ@îpსზfả|âصنệصтì დEµგ”1ử火£Ø₤გñl#+è火ოđ\n"
          ]
        }
      ],
      "source": [
        "print(decode(m.generate(idx = torch.zeros((1, 1), dtype=torch.long), max_new_tokens=500)[0].tolist()))"
      ]
    },
    {
      "cell_type": "markdown",
      "metadata": {
        "id": "XinV8nmAnmKN"
      },
      "source": [
        "## The mathematical trick in self-attention"
      ]
    },
    {
      "cell_type": "code",
      "execution_count": 58,
      "metadata": {
        "colab": {
          "base_uri": "https://localhost:8080/"
        },
        "id": "tukiH-NbRBhA",
        "outputId": "2afd8457-75f4-4921-d2c6-b624528e8659"
      },
      "outputs": [
        {
          "name": "stdout",
          "output_type": "stream",
          "text": [
            "a=\n",
            "tensor([[1.0000, 0.0000, 0.0000],\n",
            "        [0.5000, 0.5000, 0.0000],\n",
            "        [0.3333, 0.3333, 0.3333]])\n",
            "--\n",
            "b=\n",
            "tensor([[2., 7.],\n",
            "        [6., 4.],\n",
            "        [6., 5.]])\n",
            "--\n",
            "c=\n",
            "tensor([[2.0000, 7.0000],\n",
            "        [4.0000, 5.5000],\n",
            "        [4.6667, 5.3333]])\n"
          ]
        }
      ],
      "source": [
        "# toy example illustrating how matrix multiplication can be used for a \"weighted aggregation\"\n",
        "torch.manual_seed(42)\n",
        "a = torch.tril(torch.ones(3, 3))\n",
        "a = a / torch.sum(a, 1, keepdim=True)\n",
        "b = torch.randint(0,10,(3,2)).float()\n",
        "c = a @ b\n",
        "print('a=')\n",
        "print(a)\n",
        "print('--')\n",
        "print('b=')\n",
        "print(b)\n",
        "print('--')\n",
        "print('c=')\n",
        "print(c)"
      ]
    },
    {
      "cell_type": "code",
      "execution_count": 59,
      "metadata": {
        "colab": {
          "base_uri": "https://localhost:8080/"
        },
        "id": "Hs_E24uRE8kr",
        "outputId": "ddceb098-3292-40f8-9cd2-a9c4d6bf23fc"
      },
      "outputs": [
        {
          "data": {
            "text/plain": [
              "torch.Size([4, 8, 2])"
            ]
          },
          "execution_count": 59,
          "metadata": {},
          "output_type": "execute_result"
        }
      ],
      "source": [
        "# consider the following toy example:\n",
        "\n",
        "torch.manual_seed(1337)\n",
        "B,T,C = 4,8,2 # batch, time, channels\n",
        "x = torch.randn(B,T,C)\n",
        "x.shape"
      ]
    },
    {
      "cell_type": "code",
      "execution_count": 60,
      "metadata": {
        "id": "86NuXX0fn7ps"
      },
      "outputs": [],
      "source": [
        "# We want x[b,t] = mean_{i<=t} x[b,i]\n",
        "xbow = torch.zeros((B,T,C))\n",
        "for b in range(B):\n",
        "    for t in range(T):\n",
        "        xprev = x[b,:t+1] # (t,C)\n",
        "        xbow[b,t] = torch.mean(xprev, 0)\n"
      ]
    },
    {
      "cell_type": "code",
      "execution_count": 61,
      "metadata": {
        "colab": {
          "base_uri": "https://localhost:8080/"
        },
        "id": "yhdOAd6-wXkZ",
        "outputId": "49f75e2a-0faa-447c-986c-6fd315e0212e"
      },
      "outputs": [
        {
          "data": {
            "text/plain": [
              "False"
            ]
          },
          "execution_count": 61,
          "metadata": {},
          "output_type": "execute_result"
        }
      ],
      "source": [
        "# version 2: using matrix multiply for a weighted aggregation\n",
        "wei = torch.tril(torch.ones(T, T))\n",
        "wei = wei / wei.sum(1, keepdim=True)\n",
        "xbow2 = wei @ x # (B, T, T) @ (B, T, C) ----> (B, T, C)\n",
        "torch.allclose(xbow, xbow2)"
      ]
    },
    {
      "cell_type": "code",
      "execution_count": 62,
      "metadata": {
        "colab": {
          "base_uri": "https://localhost:8080/"
        },
        "id": "wOURrfG-ysoL",
        "outputId": "e04a822b-d50b-4174-ba6b-e404ff1150bc"
      },
      "outputs": [
        {
          "data": {
            "text/plain": [
              "False"
            ]
          },
          "execution_count": 62,
          "metadata": {},
          "output_type": "execute_result"
        }
      ],
      "source": [
        "# version 3: use Softmax\n",
        "tril = torch.tril(torch.ones(T, T))\n",
        "wei = torch.zeros((T,T))\n",
        "wei = wei.masked_fill(tril == 0, float('-inf'))\n",
        "wei = F.softmax(wei, dim=-1)\n",
        "xbow3 = wei @ x\n",
        "torch.allclose(xbow, xbow3)\n"
      ]
    },
    {
      "cell_type": "code",
      "execution_count": 63,
      "metadata": {
        "colab": {
          "base_uri": "https://localhost:8080/"
        },
        "id": "EDarxEWIRMKq",
        "outputId": "9a2f84cd-1fdb-4b9d-baa9-5e915708ac3e"
      },
      "outputs": [
        {
          "data": {
            "text/plain": [
              "torch.Size([4, 8, 16])"
            ]
          },
          "execution_count": 63,
          "metadata": {},
          "output_type": "execute_result"
        }
      ],
      "source": [
        "# version 4: self-attention!\n",
        "torch.manual_seed(1337)\n",
        "B,T,C = 4,8,32 # batch, time, channels\n",
        "x = torch.randn(B,T,C)\n",
        "\n",
        "# let's see a single Head perform self-attention\n",
        "head_size = 16\n",
        "key = nn.Linear(C, head_size, bias=False)\n",
        "query = nn.Linear(C, head_size, bias=False)\n",
        "value = nn.Linear(C, head_size, bias=False)\n",
        "k = key(x)   # (B, T, 16)\n",
        "q = query(x) # (B, T, 16)\n",
        "wei =  q @ k.transpose(-2, -1) # (B, T, 16) @ (B, 16, T) ---> (B, T, T)\n",
        "\n",
        "tril = torch.tril(torch.ones(T, T))\n",
        "#wei = torch.zeros((T,T))\n",
        "wei = wei.masked_fill(tril == 0, float('-inf'))\n",
        "wei = F.softmax(wei, dim=-1)\n",
        "\n",
        "v = value(x)\n",
        "out = wei @ v\n",
        "#out = wei @ x\n",
        "\n",
        "out.shape"
      ]
    },
    {
      "cell_type": "code",
      "execution_count": 64,
      "metadata": {
        "colab": {
          "base_uri": "https://localhost:8080/"
        },
        "id": "vT1hdtzXCjgL",
        "outputId": "489f7edb-f81e-4bd4-893d-ebf50169ef69"
      },
      "outputs": [
        {
          "data": {
            "text/plain": [
              "tensor([[1.0000, 0.0000, 0.0000, 0.0000, 0.0000, 0.0000, 0.0000, 0.0000],\n",
              "        [0.1574, 0.8426, 0.0000, 0.0000, 0.0000, 0.0000, 0.0000, 0.0000],\n",
              "        [0.2088, 0.1646, 0.6266, 0.0000, 0.0000, 0.0000, 0.0000, 0.0000],\n",
              "        [0.5792, 0.1187, 0.1889, 0.1131, 0.0000, 0.0000, 0.0000, 0.0000],\n",
              "        [0.0294, 0.1052, 0.0469, 0.0276, 0.7909, 0.0000, 0.0000, 0.0000],\n",
              "        [0.0176, 0.2689, 0.0215, 0.0089, 0.6812, 0.0019, 0.0000, 0.0000],\n",
              "        [0.1691, 0.4066, 0.0438, 0.0416, 0.1048, 0.2012, 0.0329, 0.0000],\n",
              "        [0.0210, 0.0843, 0.0555, 0.2297, 0.0573, 0.0709, 0.2423, 0.2391]],\n",
              "       grad_fn=<SelectBackward0>)"
            ]
          },
          "execution_count": 64,
          "metadata": {},
          "output_type": "execute_result"
        }
      ],
      "source": [
        "wei[0]"
      ]
    },
    {
      "cell_type": "markdown",
      "metadata": {
        "id": "M5CvobiQ0pLr"
      },
      "source": [
        "Notes:\n",
        "- Attention is a **communication mechanism**. Can be seen as nodes in a directed graph looking at each other and aggregating information with a weighted sum from all nodes that point to them, with data-dependent weights.\n",
        "- There is no notion of space. Attention simply acts over a set of vectors. This is why we need to positionally encode tokens.\n",
        "- Each example across batch dimension is of course processed completely independently and never \"talk\" to each other\n",
        "- In an \"encoder\" attention block just delete the single line that does masking with `tril`, allowing all tokens to communicate. This block here is called a \"decoder\" attention block because it has triangular masking, and is usually used in autoregressive settings, like language modeling.\n",
        "- \"self-attention\" just means that the keys and values are produced from the same source as queries. In \"cross-attention\", the queries still get produced from x, but the keys and values come from some other, external source (e.g. an encoder module)\n",
        "- \"Scaled\" attention additional divides `wei` by 1/sqrt(head_size). This makes it so when input Q,K are unit variance, wei will be unit variance too and Softmax will stay diffuse and not saturate too much. Illustration below"
      ]
    },
    {
      "cell_type": "code",
      "execution_count": 65,
      "metadata": {
        "id": "4SNbLq5z3oBw"
      },
      "outputs": [],
      "source": [
        "k = torch.randn(B,T,head_size)\n",
        "q = torch.randn(B,T,head_size)\n",
        "wei = q @ k.transpose(-2, -1) * head_size**-0.5"
      ]
    },
    {
      "cell_type": "code",
      "execution_count": 66,
      "metadata": {
        "colab": {
          "base_uri": "https://localhost:8080/"
        },
        "id": "Nl6I9n9IRTSo",
        "outputId": "79ca954e-3901-4747-c670-45cdc0a1292d"
      },
      "outputs": [
        {
          "data": {
            "text/plain": [
              "tensor(1.0449)"
            ]
          },
          "execution_count": 66,
          "metadata": {},
          "output_type": "execute_result"
        }
      ],
      "source": [
        "k.var()"
      ]
    },
    {
      "cell_type": "code",
      "execution_count": 67,
      "metadata": {
        "colab": {
          "base_uri": "https://localhost:8080/"
        },
        "id": "T1tQx7oeRvtc",
        "outputId": "93efb8e0-4f65-4b33-8589-9809fdbfe21d"
      },
      "outputs": [
        {
          "data": {
            "text/plain": [
              "tensor(1.0700)"
            ]
          },
          "execution_count": 67,
          "metadata": {},
          "output_type": "execute_result"
        }
      ],
      "source": [
        "q.var()"
      ]
    },
    {
      "cell_type": "code",
      "execution_count": 68,
      "metadata": {
        "colab": {
          "base_uri": "https://localhost:8080/"
        },
        "id": "MLb_odHU3iKM",
        "outputId": "f7631c47-a9a4-4d01-cc75-ddba187a4d56"
      },
      "outputs": [
        {
          "data": {
            "text/plain": [
              "tensor(1.0918)"
            ]
          },
          "execution_count": 68,
          "metadata": {},
          "output_type": "execute_result"
        }
      ],
      "source": [
        "wei.var()"
      ]
    },
    {
      "cell_type": "code",
      "execution_count": 69,
      "metadata": {
        "colab": {
          "base_uri": "https://localhost:8080/"
        },
        "id": "JB82yzt44REI",
        "outputId": "2353750b-2f50-4b36-aa8a-39e897d45ddf"
      },
      "outputs": [
        {
          "data": {
            "text/plain": [
              "tensor([0.1925, 0.1426, 0.2351, 0.1426, 0.2872])"
            ]
          },
          "execution_count": 69,
          "metadata": {},
          "output_type": "execute_result"
        }
      ],
      "source": [
        "torch.softmax(torch.tensor([0.1, -0.2, 0.3, -0.2, 0.5]), dim=-1)"
      ]
    },
    {
      "cell_type": "code",
      "execution_count": 70,
      "metadata": {
        "colab": {
          "base_uri": "https://localhost:8080/"
        },
        "id": "Mpt8569BB9_f",
        "outputId": "4957630c-67df-4e04-b92b-6f8beb43669b"
      },
      "outputs": [
        {
          "data": {
            "text/plain": [
              "tensor([0.0326, 0.0030, 0.1615, 0.0030, 0.8000])"
            ]
          },
          "execution_count": 70,
          "metadata": {},
          "output_type": "execute_result"
        }
      ],
      "source": [
        "torch.softmax(torch.tensor([0.1, -0.2, 0.3, -0.2, 0.5])*8, dim=-1) # gets too peaky, converges to one-hot"
      ]
    },
    {
      "cell_type": "code",
      "execution_count": 71,
      "metadata": {
        "colab": {
          "base_uri": "https://localhost:8080/"
        },
        "id": "2Num7sX9CKOH",
        "outputId": "14b28033-de39-4237-d97b-eb742dae5690"
      },
      "outputs": [
        {
          "data": {
            "text/plain": [
              "torch.Size([32, 100])"
            ]
          },
          "execution_count": 71,
          "metadata": {},
          "output_type": "execute_result"
        }
      ],
      "source": [
        "class LayerNorm1d: # (used to be BatchNorm1d)\n",
        "\n",
        "  def __init__(self, dim, eps=1e-5, momentum=0.1):\n",
        "    self.eps = eps\n",
        "    self.gamma = torch.ones(dim)\n",
        "    self.beta = torch.zeros(dim)\n",
        "\n",
        "  def __call__(self, x):\n",
        "    # calculate the forward pass\n",
        "    xmean = x.mean(1, keepdim=True) # batch mean\n",
        "    xvar = x.var(1, keepdim=True) # batch variance\n",
        "    xhat = (x - xmean) / torch.sqrt(xvar + self.eps) # normalize to unit variance\n",
        "    self.out = self.gamma * xhat + self.beta\n",
        "    return self.out\n",
        "\n",
        "  def parameters(self):\n",
        "    return [self.gamma, self.beta]\n",
        "\n",
        "torch.manual_seed(1337)\n",
        "module = LayerNorm1d(100)\n",
        "x = torch.randn(32, 100) # batch size 32 of 100-dimensional vectors\n",
        "x = module(x)\n",
        "x.shape"
      ]
    },
    {
      "cell_type": "code",
      "execution_count": 72,
      "metadata": {
        "colab": {
          "base_uri": "https://localhost:8080/"
        },
        "id": "633T2cmnW1uk",
        "outputId": "95889888-cd38-43fc-edd0-226260ab301b"
      },
      "outputs": [
        {
          "data": {
            "text/plain": [
              "(tensor(0.1469), tensor(0.8803))"
            ]
          },
          "execution_count": 72,
          "metadata": {},
          "output_type": "execute_result"
        }
      ],
      "source": [
        "x[:,0].mean(), x[:,0].std() # mean,std of one feature across all batch inputs"
      ]
    },
    {
      "cell_type": "code",
      "execution_count": 73,
      "metadata": {
        "colab": {
          "base_uri": "https://localhost:8080/"
        },
        "id": "LN9cK9BoXCYb",
        "outputId": "82670a9c-829e-43dc-9f05-e34a7153383c"
      },
      "outputs": [
        {
          "data": {
            "text/plain": [
              "(tensor(-9.5367e-09), tensor(1.0000))"
            ]
          },
          "execution_count": 73,
          "metadata": {},
          "output_type": "execute_result"
        }
      ],
      "source": [
        "x[0,:].mean(), x[0,:].std() # mean,std of a single input from the batch, of its features"
      ]
    },
    {
      "cell_type": "code",
      "execution_count": 74,
      "metadata": {
        "id": "dRJH6wM_XFfU"
      },
      "outputs": [],
      "source": [
        "# Hindi to English translation example:\n",
        "\n",
        "# <--------- ENCODE ------------------><--------------- DECODE ----------------->\n",
        "# न्यूरल नेटवर्क कमाल के हैं! <START> neural networks are awesome!<END>\n",
        "\n"
      ]
    },
    {
      "cell_type": "markdown",
      "metadata": {
        "id": "ZcvKeBXoZFOY"
      },
      "source": [
        "### Full finished code, for reference\n",
        "\n",
        "You may want to refer directly to the git repo instead though."
      ]
    },
    {
      "cell_type": "code",
      "execution_count": 75,
      "metadata": {
        "colab": {
          "base_uri": "https://localhost:8080/"
        },
        "id": "hoelkOrFY8bN",
        "outputId": "5aa78a7e-f14e-47b1-b801-bfef9bf7ea40"
      },
      "outputs": [
        {
          "name": "stdout",
          "output_type": "stream",
          "text": [
            "0.237851 M parameters\n",
            "step 0: train loss 5.7998, val loss 5.7992\n",
            "step 100: train loss 2.6898, val loss 2.6942\n",
            "step 200: train loss 2.5243, val loss 2.5230\n",
            "step 300: train loss 2.4400, val loss 2.4433\n",
            "step 400: train loss 2.3819, val loss 2.3805\n",
            "step 500: train loss 2.3230, val loss 2.3304\n",
            "step 600: train loss 2.2784, val loss 2.2877\n",
            "step 700: train loss 2.2409, val loss 2.2260\n",
            "step 800: train loss 2.1985, val loss 2.2064\n",
            "step 900: train loss 2.1730, val loss 2.1877\n",
            "step 1000: train loss 2.1388, val loss 2.1543\n",
            "step 1100: train loss 2.1080, val loss 2.1262\n",
            "step 1200: train loss 2.0847, val loss 2.0911\n",
            "step 1300: train loss 2.0744, val loss 2.0678\n",
            "step 1400: train loss 2.0392, val loss 2.0369\n",
            "step 1500: train loss 2.0218, val loss 2.0383\n",
            "step 1600: train loss 2.0025, val loss 2.0174\n",
            "step 1700: train loss 1.9888, val loss 2.0001\n",
            "step 1800: train loss 1.9775, val loss 1.9806\n",
            "step 1900: train loss 1.9596, val loss 1.9521\n",
            "step 2000: train loss 1.9403, val loss 1.9656\n",
            "step 2100: train loss 1.9287, val loss 1.9496\n",
            "step 2200: train loss 1.9270, val loss 1.9382\n",
            "step 2300: train loss 1.9034, val loss 1.9176\n",
            "step 2400: train loss 1.9055, val loss 1.9159\n",
            "step 2500: train loss 1.8825, val loss 1.9006\n",
            "step 2600: train loss 1.8714, val loss 1.8928\n",
            "step 2700: train loss 1.8632, val loss 1.8721\n",
            "step 2800: train loss 1.8609, val loss 1.8761\n",
            "step 2900: train loss 1.8442, val loss 1.8752\n",
            "step 3000: train loss 1.8416, val loss 1.8639\n",
            "step 3100: train loss 1.8275, val loss 1.8375\n",
            "step 3200: train loss 1.8234, val loss 1.8334\n",
            "step 3300: train loss 1.8162, val loss 1.8211\n",
            "step 3400: train loss 1.8089, val loss 1.8227\n",
            "step 3500: train loss 1.8017, val loss 1.8230\n",
            "step 3600: train loss 1.7994, val loss 1.8141\n",
            "step 3700: train loss 1.7822, val loss 1.8056\n",
            "step 3800: train loss 1.7744, val loss 1.7941\n",
            "step 3900: train loss 1.7739, val loss 1.8048\n",
            "step 4000: train loss 1.7778, val loss 1.7947\n",
            "step 4100: train loss 1.7610, val loss 1.7858\n",
            "step 4200: train loss 1.7726, val loss 1.7794\n",
            "step 4300: train loss 1.7454, val loss 1.7691\n",
            "step 4400: train loss 1.7558, val loss 1.7746\n",
            "step 4500: train loss 1.7386, val loss 1.7595\n",
            "step 4600: train loss 1.7395, val loss 1.7540\n",
            "step 4700: train loss 1.7313, val loss 1.7665\n",
            "step 4800: train loss 1.7338, val loss 1.7549\n",
            "step 4900: train loss 1.7188, val loss 1.7561\n",
            "step 4999: train loss 1.7235, val loss 1.7389\n",
            "\n",
            " \n",
            " = = = Engles arrached promitist and <unk> ) . \n",
            " Whenth the transfer matpalians . \n",
            " Is primitutudie With Remberty Stud . To stralians Kical Villion . It nomant Noves . Muegomoa 312 took , the two Septemphwer G <u , twincre wuterded the yead , estry the Arch leftter 'rming the glarged on tram ovilary is rir would a sucing concenple obsey is a month right were in roducently to the <unk> ) . \n",
            " \n",
            " = = = Frencissions Chary 'nnond declared GIN F\n",
            " FIFF Briling wannessa for the Foed in the repriquil oversomantly wipply issuts camention it wanly mards lews and and two Durisaus as a teard and <unk> made staince in their 's , leff from the <unk> as and contractional . \n",
            " \n",
            " = = = = Priers and Aarlone this bannd Cupporty . The Electries his the sites to Roital that wark accord as study – nessincted the Sx Sativelles — a times as Mellonious zearly Vaks S2 Strol to 12961 , and leaked by the time \" ( Le morievitions in the North Zhaum0 \" Back Rox run Dissuing the War Yore in \" The Carman 2 intly <unk> , the reproating stothmen , St 200 , 8 to Actrmage to persans Columbeon while it . Af 1 tene Robje Clanderamest on 201 onies , and candebraly , while dum0 and bas4 the pirsonal is trussitional ; no severvide the <unk> oudition were and <unk> Jaguaney and maker in 20193 in the 976th the accused They Keet Olth , \" sculting and temphorisons and so to thitoues \" <unk> , Carry varigured from their sirds flum in the an teagring twire colo sraped titm world may of dides and dation sefful . Ohrough effice sevepteencton poirs in the brogial roaguaned in a wadge mantabing , into camentner the nimble rullay over the Rather faces witniting her the mollabs an to maning two Land Form . \n",
            " RhM . On The presrication aviainaán stacmand the <unk> was in promend and titnes is the Pontly Ting , eambilas trais and sevended . Theire in numboring strill simary versiona rogresturnance named <unk> . The UR Cissed defrowper and Fedwaré \" shaes be by <unk> Amand GSVN , I lisons have to trolage came gword reasula\n"
          ]
        }
      ],
      "source": [
        "import torch\n",
        "import torch.nn as nn\n",
        "from torch.nn import functional as F\n",
        "\n",
        "# hyperparameters\n",
        "batch_size = 16 # how many independent sequences will we process in parallel?\n",
        "block_size = 32 # what is the maximum context length for predictions?\n",
        "max_iters = 5000\n",
        "eval_interval = 100\n",
        "learning_rate = 1e-3\n",
        "device = 'cuda' if torch.cuda.is_available() else 'cpu'\n",
        "eval_iters = 200\n",
        "n_embd = 64\n",
        "n_head = 4\n",
        "n_layer = 4\n",
        "dropout = 0.0\n",
        "\n",
        "\n",
        "torch.manual_seed(1337)\n",
        "\n",
        "# !wget https://raw.githubusercontent.com/pytorch/examples/master/word_language_model/data/wikitext-2/train.txt -O input.txt\n",
        "with open('input.txt', 'r', encoding='utf-8') as f:\n",
        "    text = f.read()\n",
        "\n",
        "# here are all the unique characters that occur in this text\n",
        "chars = sorted(list(set(text)))\n",
        "vocab_size = len(chars)\n",
        "# create a mapping from characters to integers\n",
        "stoi = { ch:i for i,ch in enumerate(chars) }\n",
        "itos = { i:ch for i,ch in enumerate(chars) }\n",
        "encode = lambda s: [stoi[c] for c in s] # encoder: take a string, output a list of integers\n",
        "decode = lambda l: ''.join([itos[i] for i in l]) # decoder: take a list of integers, output a string\n",
        "\n",
        "# Train and test splits\n",
        "data = torch.tensor(encode(text), dtype=torch.long)\n",
        "n = int(0.9*len(data)) # first 90% will be train, rest val\n",
        "train_data = data[:n]\n",
        "val_data = data[n:]\n",
        "\n",
        "# data loading\n",
        "def get_batch(split):\n",
        "    # generate a small batch of data of inputs x and targets y\n",
        "    data = train_data if split == 'train' else val_data\n",
        "    ix = torch.randint(len(data) - block_size, (batch_size,))\n",
        "    x = torch.stack([data[i:i+block_size] for i in ix])\n",
        "    y = torch.stack([data[i+1:i+block_size+1] for i in ix])\n",
        "    x, y = x.to(device), y.to(device)\n",
        "    return x, y\n",
        "\n",
        "@torch.no_grad()\n",
        "def estimate_loss():\n",
        "    out = {}\n",
        "    model.eval()\n",
        "    for split in ['train', 'val']:\n",
        "        losses = torch.zeros(eval_iters)\n",
        "        for k in range(eval_iters):\n",
        "            X, Y = get_batch(split)\n",
        "            logits, loss = model(X, Y)\n",
        "            losses[k] = loss.item()\n",
        "        out[split] = losses.mean()\n",
        "    model.train()\n",
        "    return out\n",
        "\n",
        "class Head(nn.Module):\n",
        "    \"\"\" one head of self-attention \"\"\"\n",
        "\n",
        "    def __init__(self, head_size):\n",
        "        super().__init__()\n",
        "        self.key = nn.Linear(n_embd, head_size, bias=False)\n",
        "        self.query = nn.Linear(n_embd, head_size, bias=False)\n",
        "        self.value = nn.Linear(n_embd, head_size, bias=False)\n",
        "        self.register_buffer('tril', torch.tril(torch.ones(block_size, block_size)))\n",
        "\n",
        "        self.dropout = nn.Dropout(dropout)\n",
        "\n",
        "    def forward(self, x):\n",
        "        B,T,C = x.shape\n",
        "        k = self.key(x)   # (B,T,C)\n",
        "        q = self.query(x) # (B,T,C)\n",
        "        # compute attention scores (\"affinities\")\n",
        "        wei = q @ k.transpose(-2,-1) * C**-0.5 # (B, T, C) @ (B, C, T) -> (B, T, T)\n",
        "        wei = wei.masked_fill(self.tril[:T, :T] == 0, float('-inf')) # (B, T, T)\n",
        "        wei = F.softmax(wei, dim=-1) # (B, T, T)\n",
        "        wei = self.dropout(wei)\n",
        "        # perform the weighted aggregation of the values\n",
        "        v = self.value(x) # (B,T,C)\n",
        "        out = wei @ v # (B, T, T) @ (B, T, C) -> (B, T, C)\n",
        "        return out\n",
        "\n",
        "class MultiHeadAttention(nn.Module):\n",
        "    \"\"\" multiple heads of self-attention in parallel \"\"\"\n",
        "\n",
        "    def __init__(self, num_heads, head_size):\n",
        "        super().__init__()\n",
        "        self.heads = nn.ModuleList([Head(head_size) for _ in range(num_heads)])\n",
        "        self.proj = nn.Linear(n_embd, n_embd)\n",
        "        self.dropout = nn.Dropout(dropout)\n",
        "\n",
        "    def forward(self, x):\n",
        "        out = torch.cat([h(x) for h in self.heads], dim=-1)\n",
        "        out = self.dropout(self.proj(out))\n",
        "        return out\n",
        "\n",
        "class FeedFoward(nn.Module):\n",
        "    \"\"\" a simple linear layer followed by a non-linearity \"\"\"\n",
        "\n",
        "    def __init__(self, n_embd):\n",
        "        super().__init__()\n",
        "        self.net = nn.Sequential(\n",
        "            nn.Linear(n_embd, 4 * n_embd),\n",
        "            nn.ReLU(),\n",
        "            nn.Linear(4 * n_embd, n_embd),\n",
        "            nn.Dropout(dropout),\n",
        "        )\n",
        "\n",
        "    def forward(self, x):\n",
        "        return self.net(x)\n",
        "\n",
        "class Block(nn.Module):\n",
        "    \"\"\" Transformer block: communication followed by computation \"\"\"\n",
        "\n",
        "    def __init__(self, n_embd, n_head):\n",
        "        # n_embd: embedding dimension, n_head: the number of heads we'd like\n",
        "        super().__init__()\n",
        "        head_size = n_embd // n_head\n",
        "        self.sa = MultiHeadAttention(n_head, head_size)\n",
        "        self.ffwd = FeedFoward(n_embd)\n",
        "        self.ln1 = nn.LayerNorm(n_embd)\n",
        "        self.ln2 = nn.LayerNorm(n_embd)\n",
        "\n",
        "    def forward(self, x):\n",
        "        x = x + self.sa(self.ln1(x))\n",
        "        x = x + self.ffwd(self.ln2(x))\n",
        "        return x\n",
        "\n",
        "# super simple bigram model\n",
        "class BigramLanguageModel(nn.Module):\n",
        "\n",
        "    def __init__(self):\n",
        "        super().__init__()\n",
        "        # each token directly reads off the logits for the next token from a lookup table\n",
        "        self.token_embedding_table = nn.Embedding(vocab_size, n_embd)\n",
        "        self.position_embedding_table = nn.Embedding(block_size, n_embd)\n",
        "        self.blocks = nn.Sequential(*[Block(n_embd, n_head=n_head) for _ in range(n_layer)])\n",
        "        self.ln_f = nn.LayerNorm(n_embd) # final layer norm\n",
        "        self.lm_head = nn.Linear(n_embd, vocab_size)\n",
        "\n",
        "    def forward(self, idx, targets=None):\n",
        "        B, T = idx.shape\n",
        "\n",
        "        # idx and targets are both (B,T) tensor of integers\n",
        "        tok_emb = self.token_embedding_table(idx) # (B,T,C)\n",
        "        pos_emb = self.position_embedding_table(torch.arange(T, device=device)) # (T,C)\n",
        "        x = tok_emb + pos_emb # (B,T,C)\n",
        "        x = self.blocks(x) # (B,T,C)\n",
        "        x = self.ln_f(x) # (B,T,C)\n",
        "        logits = self.lm_head(x) # (B,T,vocab_size)\n",
        "\n",
        "        if targets is None:\n",
        "            loss = None\n",
        "        else:\n",
        "            B, T, C = logits.shape\n",
        "            logits = logits.view(B*T, C)\n",
        "            targets = targets.view(B*T)\n",
        "            loss = F.cross_entropy(logits, targets)\n",
        "\n",
        "        return logits, loss\n",
        "\n",
        "    def generate(self, idx, max_new_tokens):\n",
        "        # idx is (B, T) array of indices in the current context\n",
        "        for _ in range(max_new_tokens):\n",
        "            # crop idx to the last block_size tokens\n",
        "            idx_cond = idx[:, -block_size:]\n",
        "            # get the predictions\n",
        "            logits, loss = self(idx_cond)\n",
        "            # focus only on the last time step\n",
        "            logits = logits[:, -1, :] # becomes (B, C)\n",
        "            # apply softmax to get probabilities\n",
        "            probs = F.softmax(logits, dim=-1) # (B, C)\n",
        "            # sample from the distribution\n",
        "            idx_next = torch.multinomial(probs, num_samples=1) # (B, 1)\n",
        "            # append sampled index to the running sequence\n",
        "            idx = torch.cat((idx, idx_next), dim=1) # (B, T+1)\n",
        "        return idx\n",
        "\n",
        "model = BigramLanguageModel()\n",
        "m = model.to(device)\n",
        "# print the number of parameters in the model\n",
        "print(sum(p.numel() for p in m.parameters())/1e6, 'M parameters')\n",
        "\n",
        "# create a PyTorch optimizer\n",
        "optimizer = torch.optim.AdamW(model.parameters(), lr=learning_rate)\n",
        "\n",
        "for iter in range(max_iters):\n",
        "\n",
        "    # every once in a while evaluate the loss on train and val sets\n",
        "    if iter % eval_interval == 0 or iter == max_iters - 1:\n",
        "        losses = estimate_loss()\n",
        "        print(f\"step {iter}: train loss {losses['train']:.4f}, val loss {losses['val']:.4f}\")\n",
        "\n",
        "    # sample a batch of data\n",
        "    xb, yb = get_batch('train')\n",
        "\n",
        "    # evaluate the loss\n",
        "    logits, loss = model(xb, yb)\n",
        "    optimizer.zero_grad(set_to_none=True)\n",
        "    loss.backward()\n",
        "    optimizer.step()\n",
        "\n",
        "# generate from the model\n",
        "context = torch.zeros((1, 1), dtype=torch.long, device=device)\n",
        "print(decode(m.generate(context, max_new_tokens=2000)[0].tolist()))\n"
      ]
    },
    {
      "cell_type": "code",
      "execution_count": null,
      "metadata": {
        "colab": {
          "base_uri": "https://localhost:8080/"
        },
        "id": "fjjvMifYZf7x",
        "outputId": "3c9098ba-3a4d-47db-9686-d11d71d32802"
      },
      "outputs": [
        {
          "name": "stdout",
          "output_type": "stream",
          "text": [
            "ChatGPT-like chatbot ready! Type 'exit' to quit.\n",
            "You: What is the main theme of this text?\n",
            "Chatbot: le in it tra churrecter . \n",
            " \n",
            " = = \n",
            " Omanizersful arby Anic tive as a bat with Mark issump belisher '\n",
            "You: Can you summarize the last paragraph for me?\n",
            "Chatbot: ter actualtly med 20d Comems : \n",
            " \n",
            " Smbels Calleroh Wrimay Crearineists in theirsan , memblishe of ma\n",
            "You: What is the mood of the current scene\n",
            "Chatbot: d ip the sing \" rink Devdember Simes and Shios the Clicaton <unk> = = = and Zermy A . Crast Isliers \n",
            "You: Priers and Aarlone this bannd Cupporty \n",
            "Chatbot: at and eles on Atly Releiev comum 's mainnes as triled in \" <unk> , reittan to the bramions genumer \n",
            "You: commonly referred to as\n",
            "Chatbot:  Miviry dy . The リhead deamer of the mairs ) out teanlying on the Parmin King , Joroading , Hagh Kup\n"
          ]
        }
      ],
      "source": [
        "# Defining a chat function\n",
        "def chat_with_model(prompt, max_tokens=100):\n",
        "    \"\"\"Generate a response to the given prompt using the trained model.\"\"\"\n",
        "    # Encode the user input\n",
        "    encoded_prompt = torch.tensor([encode(prompt)], dtype=torch.long, device=device)\n",
        "\n",
        "    # Generate a response\n",
        "    generated_tokens = model.generate(encoded_prompt, max_new_tokens=max_tokens)\n",
        "\n",
        "    # Decode the generated tokens to text\n",
        "    response = decode(generated_tokens[0].tolist())\n",
        "    return response[len(prompt):]  # Return only the newly generated part\n",
        "\n",
        "# Chat loop\n",
        "print(\"ChatGPT-like chatbot ready! Type 'exit' to quit.\")\n",
        "while True:\n",
        "    user_input = input(\"You: \")\n",
        "    if user_input.lower() == \"exit\":\n",
        "        print(\"Chatbot: Goodbye!\")\n",
        "        break\n",
        "    response = chat_with_model(user_input)\n",
        "    print(f\"Chatbot: {response}\")\n"
      ]
    }
  ],
  "metadata": {
    "accelerator": "GPU",
    "colab": {
      "gpuType": "T4",
      "provenance": []
    },
    "kernelspec": {
      "display_name": "Python 3",
      "name": "python3"
    },
    "language_info": {
      "name": "python"
    }
  },
  "nbformat": 4,
  "nbformat_minor": 0
}
